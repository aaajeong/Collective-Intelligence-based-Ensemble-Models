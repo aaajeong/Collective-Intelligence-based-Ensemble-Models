{
 "cells": [
  {
   "cell_type": "code",
   "execution_count": 1,
   "metadata": {},
   "outputs": [],
   "source": [
    "from matplotlib import pyplot as plt\n",
    "import numpy as np"
   ]
  },
  {
   "cell_type": "code",
   "execution_count": 2,
   "metadata": {},
   "outputs": [],
   "source": [
    "accruacy = [0.45, 0.45, 0.45, 0.45, 0.44, 0.45, 0.45, 0.45, 0.44, 0.45, 0.45]\n",
    "precision = [0.44, 0.44, 0.33, 0.33, 0.32, 0.33, 0.32, 0.33, 0.33, 0.34, 0.34]\n",
    "recall = [0.32, 0.33, 0.45, 0.45, 0.44, 0.45, 0.45, 0.45, 0.44, 0.45, 0.45]"
   ]
  },
  {
   "cell_type": "code",
   "execution_count": 3,
   "metadata": {},
   "outputs": [],
   "source": [
    "accraucy = np.array(accruacy)\n",
    "precision = np.array(precision)\n",
    "recall = np.array(recall)\n",
    "\n",
    "accruacy = np.multiply(accruacy, 100)\n",
    "precision = np.multiply(precision, 100)\n",
    "recall = np.multiply(recall, 100)"
   ]
  },
  {
   "cell_type": "code",
   "execution_count": 4,
   "metadata": {},
   "outputs": [
    {
     "name": "stdout",
     "output_type": "stream",
     "text": [
      "[45. 45. 45. 45. 44. 45. 45. 45. 44. 45. 45.]\n"
     ]
    }
   ],
   "source": [
    "print(accruacy)"
   ]
  },
  {
   "cell_type": "code",
   "execution_count": 5,
   "metadata": {
    "scrolled": true
   },
   "outputs": [
    {
     "data": {
      "image/png": "[encoded data removed]",
      "text/plain": [
       "<Figure size 432x288 with 1 Axes>"
      ]
     },
     "metadata": {
      "needs_background": "light"
     },
     "output_type": "display_data"
    }
   ],
   "source": [
    "x_values = [500, 1000, 2000, 3000, 4000, 5000, 6000, 7000, 8000, 9000, 10000]\n",
    "# x_values = [100, 200, 400, 600, 800, 1000, 1200, 1400, 1600, 1800, 2000]\n",
    "\n",
    "plt.plot(x_values, accruacy, color = \"dodgerblue\", label='Accuracy')\n",
    "plt.scatter(x_values, accruacy, c = 'dodgerblue', s=15)\n",
    "plt.plot(x_values, precision, color = \"#2ca02c\", label='Precision')\n",
    "plt.scatter(x_values, precision, c = '#2ca02c', s=15)\n",
    "plt.plot(x_values, recall, color = \"#9467bd\", label='Recall')\n",
    "plt.scatter(x_values, recall, c = '#9467bd', s=15)\n",
    "\n",
    "\n",
    "plt.legend(loc='best') \n",
    "plt.ylim(0, 100)\n",
    "plt.xlabel('Epoch')\n",
    "plt.ylabel('Accuracy')\n",
    "# plt.savefig('compare_Accuacy.png', dpi=300, bbox_inches='tight', pad_inches=0)\n",
    "plt.show()\n"
   ]
  },
  {
   "cell_type": "code",
   "execution_count": null,
   "metadata": {},
   "outputs": [],
   "source": []
  }
 ],
 "metadata": {
  "kernelspec": {
   "display_name": "unk_esb",
   "language": "python",
   "name": "python3"
  },
  "language_info": {
   "codemirror_mode": {
    "name": "ipython",
    "version": 3
   },
   "file_extension": ".py",
   "mimetype": "text/x-python",
   "name": "python",
   "nbconvert_exporter": "python",
   "pygments_lexer": "ipython3",
   "version": "3.7.9"
  }
 },
 "nbformat": 4,
 "nbformat_minor": 2
}
